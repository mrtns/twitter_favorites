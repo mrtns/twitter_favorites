{
 "cells": [
  {
   "cell_type": "markdown",
   "metadata": {},
   "source": [
    "# Dependencies"
   ]
  },
  {
   "cell_type": "markdown",
   "metadata": {},
   "source": [
    "## Enrivonment"
   ]
  },
  {
   "cell_type": "markdown",
   "metadata": {},
   "source": [
    "### sudo"
   ]
  },
  {
   "cell_type": "code",
   "execution_count": 12,
   "metadata": {},
   "outputs": [
    {
     "name": "stdout",
     "output_type": "stream",
     "text": [
      "Mon Jun 19 14:57:01 UTC 2017\n"
     ]
    }
   ],
   "source": [
    "%%bash\n",
    "sudo date -u"
   ]
  },
  {
   "cell_type": "markdown",
   "metadata": {},
   "source": [
    "### python, pip"
   ]
  },
  {
   "cell_type": "code",
   "execution_count": 77,
   "metadata": {
    "scrolled": true
   },
   "outputs": [
    {
     "name": "stdout",
     "output_type": "stream",
     "text": [
      "/opt/conda/envs/python2/bin/python\n",
      "Python 2.7.13\n",
      "pip 9.0.1 from /opt/conda/envs/python2/lib/python2.7/site-packages (python 2.7)\n"
     ]
    }
   ],
   "source": [
    "%%bash\n",
    "command -v python || { echo >&2 \"python not found\";} \n",
    "bash -c \"python --version 2>&1\"\n",
    "pip --version"
   ]
  },
  {
   "cell_type": "markdown",
   "metadata": {},
   "source": [
    "## ruby, gem\n",
    "TODO"
   ]
  },
  {
   "cell_type": "markdown",
   "metadata": {},
   "source": [
    "## Executables"
   ]
  },
  {
   "cell_type": "markdown",
   "metadata": {},
   "source": [
    "### t (twitter cli)\n",
    "via rubygems  \n",
    "TODO"
   ]
  },
  {
   "cell_type": "markdown",
   "metadata": {},
   "source": [
    "### jq\n",
    "via binary download"
   ]
  },
  {
   "cell_type": "code",
   "execution_count": 35,
   "metadata": {},
   "outputs": [],
   "source": [
    "%%bash\n",
    "wget --quiet -O jq https://github.com/stedolan/jq/releases/download/jq-1.5/jq-linux64\n",
    "chmod +x ./jq\n",
    "sudo mv jq /usr/bin"
   ]
  },
  {
   "cell_type": "code",
   "execution_count": 79,
   "metadata": {},
   "outputs": [
    {
     "name": "stdout",
     "output_type": "stream",
     "text": [
      "/usr/bin/jq\n",
      "jq-1.5\n"
     ]
    }
   ],
   "source": [
    "%%bash\n",
    "command -v jq || { echo >&2 \"jq not found\";} \n",
    "jq --version"
   ]
  },
  {
   "cell_type": "markdown",
   "metadata": {},
   "source": [
    "### twarc\n",
    "via pip"
   ]
  },
  {
   "cell_type": "code",
   "execution_count": 85,
   "metadata": {},
   "outputs": [],
   "source": [
    "%%bash\n",
    "pip install --quiet twarc"
   ]
  },
  {
   "cell_type": "code",
   "execution_count": 87,
   "metadata": {},
   "outputs": [
    {
     "name": "stdout",
     "output_type": "stream",
     "text": [
      "/opt/conda/envs/python2/bin/twarc\n",
      "twarc v1.1.2\n"
     ]
    }
   ],
   "source": [
    "%%bash\n",
    "command -v twarc || { echo >&2 \"twarc not found\";} \n",
    "twarc version"
   ]
  },
  {
   "cell_type": "markdown",
   "metadata": {},
   "source": [
    "### csvjson\n",
    "via csvkit via pip"
   ]
  },
  {
   "cell_type": "code",
   "execution_count": 88,
   "metadata": {},
   "outputs": [],
   "source": [
    "%%bash\n",
    "pip install --quiet csvkit"
   ]
  },
  {
   "cell_type": "code",
   "execution_count": 89,
   "metadata": {},
   "outputs": [
    {
     "name": "stdout",
     "output_type": "stream",
     "text": [
      "/opt/conda/envs/python2/bin/csvjson\n",
      "csvjson 1.0.2\n"
     ]
    }
   ],
   "source": [
    "%%bash\n",
    "command -v csvjson || { echo >&2 \"csvjson not found\";} \n",
    "bash -c \"csvjson --version 2>&1\""
   ]
  }
 ],
 "metadata": {
  "kernelspec": {
   "display_name": "Python 2",
   "language": "python",
   "name": "python2"
  },
  "language_info": {
   "codemirror_mode": {
    "name": "ipython",
    "version": 2.0
   },
   "file_extension": ".py",
   "mimetype": "text/x-python",
   "name": "python",
   "nbconvert_exporter": "python",
   "pygments_lexer": "ipython2",
   "version": "2.7.13"
  }
 },
 "nbformat": 4,
 "nbformat_minor": 0
}