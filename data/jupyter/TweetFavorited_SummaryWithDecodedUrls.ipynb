{
 "cells": [
  {
   "cell_type": "markdown",
   "metadata": {},
   "source": [
    "# Overview\n",
    "\n",
    "Given a Twitter user, download a list of all likes/favorites for that user."
   ]
  },
  {
   "cell_type": "markdown",
   "metadata": {},
   "source": [
    "# Dependencies"
   ]
  },
  {
   "cell_type": "markdown",
   "metadata": {},
   "source": [
    "## debian jessie"
   ]
  },
  {
   "cell_type": "code",
   "execution_count": 24,
   "metadata": {},
   "outputs": [
    {
     "name": "stdout",
     "output_type": "stream",
     "text": [
      "PRETTY_NAME=\"Debian GNU/Linux 8 (jessie)\"\n",
      "NAME=\"Debian GNU/Linux\"\n",
      "VERSION_ID=\"8\"\n",
      "VERSION=\"8 (jessie)\"\n",
      "ID=debian\n",
      "HOME_URL=\"http://www.debian.org/\"\n",
      "SUPPORT_URL=\"http://www.debian.org/support\"\n",
      "BUG_REPORT_URL=\"https://bugs.debian.org/\"\n"
     ]
    }
   ],
   "source": [
    "%%bash\n",
    "cat /etc/*-release"
   ]
  },
  {
   "cell_type": "markdown",
   "metadata": {},
   "source": [
    "## sudo"
   ]
  },
  {
   "cell_type": "markdown",
   "metadata": {},
   "source": [
    "Verify:"
   ]
  },
  {
   "cell_type": "code",
   "execution_count": 1,
   "metadata": {},
   "outputs": [
    {
     "name": "stdout",
     "output_type": "stream",
     "text": [
      "Mon Jun 19 17:11:33 UTC 2017\n"
     ]
    }
   ],
   "source": [
    "%%bash\n",
    "sudo date -u"
   ]
  },
  {
   "cell_type": "markdown",
   "metadata": {},
   "source": [
    "## ruby, rubygems"
   ]
  },
  {
   "cell_type": "markdown",
   "metadata": {},
   "source": [
    "Install:"
   ]
  },
  {
   "cell_type": "code",
   "execution_count": 12,
   "metadata": {
    "scrolled": false
   },
   "outputs": [
    {
     "name": "stdout",
     "output_type": "stream",
     "text": [
      "Ign http://cdn-fastly.deb.debian.org jessie InRelease\n",
      "Hit http://cdn-fastly.deb.debian.org jessie/updates InRelease\n",
      "Hit http://ftp.debian.org wheezy-backports InRelease\n",
      "Hit http://repos.mesosphere.io jessie InRelease\n",
      "Hit http://cdn-fastly.deb.debian.org jessie Release.gpg\n",
      "Hit http://http.debian.net wheezy-backports InRelease\n",
      "Hit http://http.debian.net jessie-backports InRelease\n",
      "Hit http://cdn-fastly.deb.debian.org jessie Release\n",
      "Get:1 http://cdn-fastly.deb.debian.org jessie/updates/main amd64 Packages [523 kB]\n",
      "Get:2 http://ftp.debian.org wheezy-backports/main amd64 Packages [777 kB]\n",
      "Get:3 http://repos.mesosphere.io jessie/main amd64 Packages [14.3 kB]\n",
      "Get:4 http://http.debian.net wheezy-backports/main amd64 Packages [777 kB]\n",
      "Get:5 http://cdn-fastly.deb.debian.org jessie/main amd64 Packages [9,065 kB]\n",
      "Get:6 http://http.debian.net jessie-backports/main amd64 Packages [1,171 kB]\n",
      "Fetched 12.3 MB in 9s (1,330 kB/s)\n",
      "Reading package lists...\n",
      "Reading package lists...\n",
      "Building dependency tree...\n",
      "Reading state information...\n",
      "apt-utils is already the newest version.\n",
      "ruby is already the newest version.\n",
      "ruby2.1 is already the newest version.\n",
      "ruby2.1-dev is already the newest version.\n",
      "locales is already the newest version.\n",
      "0 upgraded, 0 newly installed, 0 to remove and 14 not upgraded.\n"
     ]
    }
   ],
   "source": [
    "%%bash\n",
    "export DEBIAN_FRONTEND=noninteractive\n",
    "sudo apt-get update --yes --quiet\n",
    "sudo apt-get install --yes --quiet apt-utils ruby2.1 ruby2.1-dev rubygems locales"
   ]
  },
  {
   "cell_type": "markdown",
   "metadata": {},
   "source": [
    "Verify:"
   ]
  },
  {
   "cell_type": "code",
   "execution_count": 6,
   "metadata": {},
   "outputs": [
    {
     "name": "stdout",
     "output_type": "stream",
     "text": [
      "ruby 2.1.5p273 (2014-11-13) [x86_64-linux-gnu]\n",
      "2.2.2\n"
     ]
    }
   ],
   "source": [
    "%%bash\n",
    "ruby --version\n",
    "gem --version"
   ]
  },
  {
   "cell_type": "markdown",
   "metadata": {},
   "source": [
    "## `t` via rubygems"
   ]
  },
  {
   "cell_type": "markdown",
   "metadata": {},
   "source": [
    "[https://github.com/sferik/t](https://github.com/sferik/t)\n",
    "\n",
    "Install:"
   ]
  },
  {
   "cell_type": "code",
   "execution_count": 14,
   "metadata": {},
   "outputs": [
    {
     "name": "stdout",
     "output_type": "stream",
     "text": [
      "Successfully installed t-3.1.0\n",
      "Parsing documentation for t-3.1.0\n",
      "Installing ri documentation for t-3.1.0\n",
      "Done installing documentation for t after 0 seconds\n",
      "1 gem installed\n"
     ]
    }
   ],
   "source": [
    "%%bash\n",
    "sudo gem install t"
   ]
  },
  {
   "cell_type": "markdown",
   "metadata": {},
   "source": [
    "Verify:"
   ]
  },
  {
   "cell_type": "code",
   "execution_count": 18,
   "metadata": {},
   "outputs": [
    {
     "name": "stdout",
     "output_type": "stream",
     "text": [
      "/usr/local/bin/t\n",
      "3.1.0\n"
     ]
    }
   ],
   "source": [
    "%%bash\n",
    "command -v t || { echo >&2 \"t not found\";}\n",
    "t --version"
   ]
  },
  {
   "cell_type": "markdown",
   "metadata": {},
   "source": [
    "## Twitter API\n",
    "\n",
    "A Twitter API Application https://apps.twitter.com configured with:\n",
    "* Access Level: Read-only"
   ]
  },
  {
   "cell_type": "markdown",
   "metadata": {},
   "source": [
    "# Input"
   ]
  },
  {
   "cell_type": "markdown",
   "metadata": {},
   "source": [
    "## Configuration"
   ]
  },
  {
   "cell_type": "markdown",
   "metadata": {},
   "source": [
    "### `t` configuration file\n",
    "`t` needs a configuration file containing Twitter API v1.1 OAuth credentials:\n",
    "```bash\n",
    "config/.trc\n",
    "```\n",
    "\n",
    "which can be generated externally via interactive prompt:\n",
    "```bash\n",
    "t authorize\n",
    "```"
   ]
  },
  {
   "cell_type": "code",
   "execution_count": 41,
   "metadata": {},
   "outputs": [
    {
     "name": "stdout",
     "output_type": "stream",
     "text": [
      "-rw------- 1 jovyan 1000 400 Jun 19 20:06 config/.trc\n"
     ]
    }
   ],
   "source": [
    "%%bash\n",
    "ls -alph config/.trc"
   ]
  },
  {
   "cell_type": "markdown",
   "metadata": {},
   "source": [
    "# Execute"
   ]
  },
  {
   "cell_type": "markdown",
   "metadata": {},
   "source": [
    "## TweetFavorited_SummaryWithDecodedUrls"
   ]
  },
  {
   "cell_type": "code",
   "execution_count": 42,
   "metadata": {
    "collapsed": true
   },
   "outputs": [],
   "source": [
    "%%bash\n",
    "t favorites --csv --number 3200 --decode_uris --profile=config/.trc > output/TweetFavorited_SummaryWithDecodedUrls.csv"
   ]
  },
  {
   "cell_type": "markdown",
   "metadata": {},
   "source": [
    "# Output"
   ]
  },
  {
   "cell_type": "markdown",
   "metadata": {},
   "source": [
    "`TweetFavorited_SummaryWithDecodedUrls.csv` should exist:"
   ]
  },
  {
   "cell_type": "code",
   "execution_count": 43,
   "metadata": {
    "scrolled": true
   },
   "outputs": [
    {
     "name": "stdout",
     "output_type": "stream",
     "text": [
      "-rw-r--r-- 1 jovyan users 603K Jun 19 20:32 output/TweetFavorited_SummaryWithDecodedUrls.csv\n"
     ]
    }
   ],
   "source": [
    "%%bash\n",
    "ls -alph output/TweetFavorited_SummaryWithDecodedUrls.csv"
   ]
  },
  {
   "cell_type": "markdown",
   "metadata": {},
   "source": [
    "It should be a CSV with a header row:"
   ]
  },
  {
   "cell_type": "code",
   "execution_count": 44,
   "metadata": {
    "scrolled": true
   },
   "outputs": [
    {
     "name": "stdout",
     "output_type": "stream",
     "text": [
      "ID,Posted at,Screen name,Text\n"
     ]
    }
   ],
   "source": [
    "%%bash\n",
    "head -n1 output/TweetFavorited_SummaryWithDecodedUrls.csv"
   ]
  },
  {
   "cell_type": "markdown",
   "metadata": {},
   "source": [
    "It should contain a row per favorited tweet:"
   ]
  },
  {
   "cell_type": "code",
   "execution_count": 45,
   "metadata": {
    "scrolled": true
   },
   "outputs": [
    {
     "name": "stdout",
     "output_type": "stream",
     "text": [
      "ID,Posted at,Screen name,Text\n",
      "876449181816238080,2017-06-18 14:39:03 +0000,InfoQ,\"Management 3.0 is about understanding you need to change the environment. Manage the system, not the people.… https://twitter.com/i/web/status/876449181816238080\"\n",
      "876446771525820416,2017-06-18 14:29:28 +0000,adymitruk,Why I miss @hintjens so much. He was way ahead of most people around him. So many good things I learned about #0mq… https://twitter.com/i/web/status/876446771525820416\n",
      "876439360001814528,2017-06-18 14:00:01 +0000,NinjaEconomics,How Much Are People Making from the Sharing Economy? https://priceonomics.com/how-much-are-people-making-from-the-sharing/ https://t.co/te1VuUZveD\n",
      "876376163257602048,2017-06-18 09:48:54 +0000,codepo8,ID3 - a development environment in the browser for d3.js http://d3-id3.com/\n",
      "876370053154959360,2017-06-18 09:24:37 +0000,jboner,Saw this talk live. Highly recommended. #mindblown https://twitter.com/qconlondon/status/876360590880645120\n",
      "876094836683579393,2017-06-17 15:11:00 +0000,portertech,\"Blue Lake, The Cariboo, BC. https://t.co/nXrkOtMJqR\"\n",
      "875830301796188160,2017-06-16 21:39:50 +0000,brianleroux,\"A+ read abt cloud functions https://www.infoq.com/articles/practical-serverless-computing\n",
      "\n",
      "our experiences echo a point @kennybastani made a bunch: the 🔑 is experimentation speed\"\n"
     ]
    }
   ],
   "source": [
    "%%bash\n",
    "head -n10 output/TweetFavorited_SummaryWithDecodedUrls.csv"
   ]
  },
  {
   "cell_type": "markdown",
   "metadata": {},
   "source": [
    "It should contain as many rows as likes/favorites for the user:"
   ]
  },
  {
   "cell_type": "code",
   "execution_count": 46,
   "metadata": {},
   "outputs": [
    {
     "name": "stdout",
     "output_type": "stream",
     "text": [
      "3788 output/TweetFavorited_SummaryWithDecodedUrls.csv\n"
     ]
    }
   ],
   "source": [
    "%%bash\n",
    "wc -l output/TweetFavorited_SummaryWithDecodedUrls.csv"
   ]
  }
 ],
 "metadata": {
  "kernelspec": {
   "display_name": "Python 2",
   "language": "python",
   "name": "python2"
  },
  "language_info": {
   "codemirror_mode": {
    "name": "ipython",
    "version": 2
   },
   "file_extension": ".py",
   "mimetype": "text/x-python",
   "name": "python",
   "nbconvert_exporter": "python",
   "pygments_lexer": "ipython2",
   "version": "2.7.13"
  }
 },
 "nbformat": 4,
 "nbformat_minor": 1
}
