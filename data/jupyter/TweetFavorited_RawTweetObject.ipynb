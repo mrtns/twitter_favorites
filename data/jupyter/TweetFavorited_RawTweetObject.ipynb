{
 "cells": [
  {
   "cell_type": "markdown",
   "metadata": {},
   "source": [
    "# Overview\n",
    "\n",
    "Given a `TweetFavorited_SummaryWithDecodedUrls` dataset, get the raw tweet object/record for each tweet."
   ]
  },
  {
   "cell_type": "markdown",
   "metadata": {},
   "source": [
    "# Dependencies"
   ]
  },
  {
   "cell_type": "markdown",
   "metadata": {},
   "source": [
    "## debian jessie"
   ]
  },
  {
   "cell_type": "code",
   "execution_count": 24,
   "metadata": {},
   "outputs": [
    {
     "name": "stdout",
     "output_type": "stream",
     "text": [
      "PRETTY_NAME=\"Debian GNU/Linux 8 (jessie)\"\n",
      "NAME=\"Debian GNU/Linux\"\n",
      "VERSION_ID=\"8\"\n",
      "VERSION=\"8 (jessie)\"\n",
      "ID=debian\n",
      "HOME_URL=\"http://www.debian.org/\"\n",
      "SUPPORT_URL=\"http://www.debian.org/support\"\n",
      "BUG_REPORT_URL=\"https://bugs.debian.org/\"\n"
     ]
    }
   ],
   "source": [
    "%%bash\n",
    "cat /etc/*-release"
   ]
  },
  {
   "cell_type": "markdown",
   "metadata": {},
   "source": [
    "## sudo"
   ]
  },
  {
   "cell_type": "markdown",
   "metadata": {},
   "source": [
    "Verify:"
   ]
  },
  {
   "cell_type": "code",
   "execution_count": 1,
   "metadata": {},
   "outputs": [
    {
     "name": "stdout",
     "output_type": "stream",
     "text": [
      "Mon Jun 19 17:11:33 UTC 2017\n"
     ]
    }
   ],
   "source": [
    "%%bash\n",
    "sudo date -u"
   ]
  },
  {
   "cell_type": "markdown",
   "metadata": {},
   "source": [
    "## jq\n",
    "Install via binary download"
   ]
  },
  {
   "cell_type": "code",
   "execution_count": 5,
   "metadata": {
    "collapsed": true
   },
   "outputs": [],
   "source": [
    "%%bash\n",
    "wget --quiet -O jq https://github.com/stedolan/jq/releases/download/jq-1.5/jq-linux64\n",
    "chmod +x ./jq\n",
    "sudo mv jq /usr/bin"
   ]
  },
  {
   "cell_type": "markdown",
   "metadata": {},
   "source": [
    "Verify:"
   ]
  },
  {
   "cell_type": "code",
   "execution_count": 6,
   "metadata": {},
   "outputs": [
    {
     "name": "stdout",
     "output_type": "stream",
     "text": [
      "/usr/bin/jq\n",
      "jq-1.5\n"
     ]
    }
   ],
   "source": [
    "%%bash\n",
    "command -v jq || { echo >&2 \"jq not found\";} \n",
    "jq --version"
   ]
  },
  {
   "cell_type": "markdown",
   "metadata": {},
   "source": [
    "## csvjson\n",
    "via csvkit\n",
    "\n",
    "Install via pip:"
   ]
  },
  {
   "cell_type": "code",
   "execution_count": 3,
   "metadata": {
    "collapsed": true
   },
   "outputs": [],
   "source": [
    "%%bash\n",
    "pip install --quiet csvkit"
   ]
  },
  {
   "cell_type": "markdown",
   "metadata": {},
   "source": [
    "Verify:"
   ]
  },
  {
   "cell_type": "code",
   "execution_count": 4,
   "metadata": {},
   "outputs": [
    {
     "name": "stdout",
     "output_type": "stream",
     "text": [
      "/opt/conda/envs/python2/bin/csvjson\n",
      "csvjson 1.0.2\n"
     ]
    }
   ],
   "source": [
    "%%bash\n",
    "command -v csvjson || { echo >&2 \"csvjson not found\";} \n",
    "bash -c \"csvjson --version 2>&1\""
   ]
  },
  {
   "cell_type": "markdown",
   "metadata": {},
   "source": [
    "## twarc\n",
    "Install via pip:"
   ]
  },
  {
   "cell_type": "code",
   "execution_count": 7,
   "metadata": {
    "collapsed": true
   },
   "outputs": [],
   "source": [
    "%%bash\n",
    "pip install --quiet twarc"
   ]
  },
  {
   "cell_type": "markdown",
   "metadata": {},
   "source": [
    "Verify:"
   ]
  },
  {
   "cell_type": "code",
   "execution_count": 8,
   "metadata": {},
   "outputs": [
    {
     "name": "stdout",
     "output_type": "stream",
     "text": [
      "/opt/conda/envs/python2/bin/twarc\n",
      "twarc v1.1.3\n"
     ]
    }
   ],
   "source": [
    "%%bash\n",
    "command -v twarc || { echo >&2 \"twarc not found\";} \n",
    "twarc version"
   ]
  },
  {
   "cell_type": "markdown",
   "metadata": {},
   "source": [
    "## Twitter API\n",
    "\n",
    "A Twitter API Application https://apps.twitter.com configured with:\n",
    "* Access Level: Read-only"
   ]
  },
  {
   "cell_type": "markdown",
   "metadata": {},
   "source": [
    "# Input"
   ]
  },
  {
   "cell_type": "markdown",
   "metadata": {},
   "source": [
    "## Datasets"
   ]
  },
  {
   "cell_type": "markdown",
   "metadata": {},
   "source": [
    "### TweetFavorited_SummaryWithDecodedUrls"
   ]
  },
  {
   "cell_type": "code",
   "execution_count": 1,
   "metadata": {
    "scrolled": true
   },
   "outputs": [
    {
     "name": "stdout",
     "output_type": "stream",
     "text": [
      "-rw-r--r-- 1 jovyan users 603K Jun 19 20:32 output/TweetFavorited_SummaryWithDecodedUrls.csv\n"
     ]
    }
   ],
   "source": [
    "%%bash\n",
    "ls -alph output/TweetFavorited_SummaryWithDecodedUrls.csv"
   ]
  },
  {
   "cell_type": "markdown",
   "metadata": {},
   "source": [
    "## Configuration"
   ]
  },
  {
   "cell_type": "markdown",
   "metadata": {},
   "source": [
    "### `twarc` configuration file\n",
    "`twarc` needs a configuration file containing Twitter API v1.1 OAuth credentials:\n",
    "```bash\n",
    "config/.twarc\n",
    "```\n",
    "\n",
    "which can be generated externally via interactive prompt:\n",
    "```bash\n",
    "twarc configure\n",
    "```"
   ]
  },
  {
   "cell_type": "markdown",
   "metadata": {},
   "source": [
    "# Execute"
   ]
  },
  {
   "cell_type": "markdown",
   "metadata": {},
   "source": [
    "## 1. Convert from CSV to JSON"
   ]
  },
  {
   "cell_type": "markdown",
   "metadata": {},
   "source": [
    "Convert input from CSV to JSON to avoid handling multi-line strings in the CSV."
   ]
  },
  {
   "cell_type": "code",
   "execution_count": 33,
   "metadata": {
    "collapsed": true
   },
   "outputs": [],
   "source": [
    "%%bash\n",
    "csvjson --no-inference --stream output/TweetFavorited_SummaryWithDecodedUrls.csv > output/TweetFavorited_SummaryWithDecodedUrls.json"
   ]
  },
  {
   "cell_type": "markdown",
   "metadata": {},
   "source": [
    "Verify:"
   ]
  },
  {
   "cell_type": "code",
   "execution_count": 35,
   "metadata": {},
   "outputs": [
    {
     "name": "stdout",
     "output_type": "stream",
     "text": [
      "{\"ID\": \"876449181816238080\", \"Posted at\": \"2017-06-18 14:39:03 +0000\", \"Screen name\": \"InfoQ\", \"Text\": \"Management 3.0 is about understanding you need to change the environment. Manage the system, not the people.… https://twitter.com/i/web/status/876449181816238080\"}\n",
      "{\"ID\": \"876446771525820416\", \"Posted at\": \"2017-06-18 14:29:28 +0000\", \"Screen name\": \"adymitruk\", \"Text\": \"Why I miss @hintjens so much. He was way ahead of most people around him. So many good things I learned about #0mq… https://twitter.com/i/web/status/876446771525820416\"}\n",
      "{\"ID\": \"876439360001814528\", \"Posted at\": \"2017-06-18 14:00:01 +0000\", \"Screen name\": \"NinjaEconomics\", \"Text\": \"How Much Are People Making from the Sharing Economy? https://priceonomics.com/how-much-are-people-making-from-the-sharing/ https://t.co/te1VuUZveD\"}\n",
      "{\"ID\": \"876376163257602048\", \"Posted at\": \"2017-06-18 09:48:54 +0000\", \"Screen name\": \"codepo8\", \"Text\": \"ID3 - a development environment in the browser for d3.js http://d3-id3.com/\"}\n",
      "{\"ID\": \"876370053154959360\", \"Posted at\": \"2017-06-18 09:24:37 +0000\", \"Screen name\": \"jboner\", \"Text\": \"Saw this talk live. Highly recommended. #mindblown https://twitter.com/qconlondon/status/876360590880645120\"}\n",
      "{\"ID\": \"876094836683579393\", \"Posted at\": \"2017-06-17 15:11:00 +0000\", \"Screen name\": \"portertech\", \"Text\": \"Blue Lake, The Cariboo, BC. https://t.co/nXrkOtMJqR\"}\n",
      "{\"ID\": \"875830301796188160\", \"Posted at\": \"2017-06-16 21:39:50 +0000\", \"Screen name\": \"brianleroux\", \"Text\": \"A+ read abt cloud functions https://www.infoq.com/articles/practical-serverless-computing\\n\\nour experiences echo a point @kennybastani made a bunch: the 🔑 is experimentation speed\"}\n",
      "{\"ID\": \"875827621971369985\", \"Posted at\": \"2017-06-16 21:29:11 +0000\", \"Screen name\": \"marcprecipice\", \"Text\": \"You cannot make a company value you. You can find a company that does value you, and work there.\"}\n",
      "{\"ID\": \"875809693913948165\", \"Posted at\": \"2017-06-16 20:17:57 +0000\", \"Screen name\": \"vambenepe\", \"Text\": \"Super-useful practical guide for using Cloud Dataflow: Guide to common Cloud Dataflow use-case patterns, Part 1\\nhttps://cloud.google.com/blog/big-data/2017/06/guide-to-common-cloud-dataflow-use-case-patterns-part-1\"}\n",
      "{\"ID\": \"875805024311537664\", \"Posted at\": \"2017-06-16 19:59:24 +0000\", \"Screen name\": \"monkchips\", \"Text\": \"@thomasj @mthenw @austencollins @openwhisk actually maybe doing slightly better than that, curve steepening… https://twitter.com/i/web/status/875805024311537664\"}\n"
     ]
    }
   ],
   "source": [
    "%%bash\n",
    "head output/TweetFavorited_SummaryWithDecodedUrls.json"
   ]
  },
  {
   "cell_type": "markdown",
   "metadata": {},
   "source": [
    "## 2. Get tweet IDs"
   ]
  },
  {
   "cell_type": "code",
   "execution_count": 39,
   "metadata": {},
   "outputs": [],
   "source": [
    "%%bash\n",
    "jq --raw-output '.ID' output/TweetFavorited_SummaryWithDecodedUrls.json > output/TweetFavorited_TweetIds.csv"
   ]
  },
  {
   "cell_type": "markdown",
   "metadata": {},
   "source": [
    "Verify:"
   ]
  },
  {
   "cell_type": "code",
   "execution_count": 40,
   "metadata": {},
   "outputs": [
    {
     "name": "stdout",
     "output_type": "stream",
     "text": [
      "3200 output/TweetFavorited_TweetIds.csv\n"
     ]
    }
   ],
   "source": [
    "%%bash\n",
    "wc -l output/TweetFavorited_TweetIds.csv"
   ]
  },
  {
   "cell_type": "code",
   "execution_count": 41,
   "metadata": {},
   "outputs": [
    {
     "name": "stdout",
     "output_type": "stream",
     "text": [
      "876449181816238080\n",
      "876446771525820416\n",
      "876439360001814528\n",
      "876376163257602048\n",
      "876370053154959360\n",
      "876094836683579393\n",
      "875830301796188160\n",
      "875827621971369985\n",
      "875809693913948165\n",
      "875805024311537664\n"
     ]
    }
   ],
   "source": [
    "%%bash\n",
    "head output/TweetFavorited_TweetIds.csv"
   ]
  },
  {
   "cell_type": "markdown",
   "metadata": {},
   "source": [
    "## 3. Get raw tweet objects"
   ]
  },
  {
   "cell_type": "code",
   "execution_count": 46,
   "metadata": {},
   "outputs": [],
   "source": [
    "%%bash\n",
    "twarc hydrate output/TweetFavorited_TweetIds.csv --config config/.twarc --log output/twarc.log > output/TweetFavorited_RawTweetObject.json"
   ]
  },
  {
   "cell_type": "markdown",
   "metadata": {},
   "source": [
    "Verify:"
   ]
  },
  {
   "cell_type": "code",
   "execution_count": 47,
   "metadata": {},
   "outputs": [
    {
     "name": "stdout",
     "output_type": "stream",
     "text": [
      "3200 output/TweetFavorited_RawTweetObject.json\n"
     ]
    }
   ],
   "source": [
    "%%bash\n",
    "wc -l output/TweetFavorited_RawTweetObject.json"
   ]
  },
  {
   "cell_type": "code",
   "execution_count": 48,
   "metadata": {},
   "outputs": [
    {
     "name": "stdout",
     "output_type": "stream",
     "text": [
      "{\"contributors\": null, \"truncated\": false, \"text\": \"Akka Cluster on K8 https://t.co/yHO6WBhoxW using Statefulset for seed nodes, and Deployment for worker nodes\\nkubectl / akka-cluster overlap?\", \"is_quote_status\": false, \"in_reply_to_status_id\": null, \"id\": 868131123972460544, \"favorite_count\": 1, \"source\": \"<a href=\\\"http://twitter.com\\\" rel=\\\"nofollow\\\">Twitter Web Client</a>\", \"retweeted\": false, \"coordinates\": null, \"entities\": {\"symbols\": [], \"user_mentions\": [], \"hashtags\": [], \"urls\": [{\"url\": \"https://t.co/yHO6WBhoxW\", \"indices\": [19, 42], \"expanded_url\": \"https://github.com/saturnism/akka-kubernetes-example\", \"display_url\": \"github.com/saturnism/akka\\u2026\"}]}, \"in_reply_to_screen_name\": null, \"in_reply_to_user_id\": null, \"retweet_count\": 1, \"id_str\": \"868131123972460544\", \"favorited\": true, \"user\": {\"follow_request_sent\": false, \"has_extended_profile\": false, \"profile_use_background_image\": true, \"default_profile_image\": false, \"id\": 18364654, \"profile_background_image_url_https\": \"https://pbs.twimg.com/profile_background_images/530621788296708096/0PC5jMnX.png\", \"verified\": false, \"translator_type\": \"none\", \"profile_text_color\": \"333333\", \"profile_image_url_https\": \"https://pbs.twimg.com/profile_images/734292279767269376/yV4eCazj_normal.jpg\", \"profile_sidebar_fill_color\": \"DDEEF6\", \"entities\": {\"url\": {\"urls\": [{\"url\": \"http://t.co/ciEpM3Iw8h\", \"indices\": [0, 22], \"expanded_url\": \"http://geekswithblogs.net/JoshReuben\", \"display_url\": \"geekswithblogs.net/JoshReuben\"}]}, \"description\": {\"urls\": []}}, \"followers_count\": 865, \"profile_sidebar_border_color\": \"000000\", \"id_str\": \"18364654\", \"profile_background_color\": \"FFFFFF\", \"listed_count\": 263, \"is_translation_enabled\": false, \"utc_offset\": 10800, \"statuses_count\": 27249, \"description\": \"TensorFlow && SPARQL / Cypher / GraphQL Fun --- MSc. Bioinformatics, Grad Dip Biotech, BSc Comp Sci\", \"friends_count\": 2581, \"location\": \"Israel\", \"profile_link_color\": \"94D487\", \"profile_image_url\": \"http://pbs.twimg.com/profile_images/734292279767269376/yV4eCazj_normal.jpg\", \"following\": false, \"geo_enabled\": false, \"profile_banner_url\": \"https://pbs.twimg.com/profile_banners/18364654/1415383104\", \"profile_background_image_url\": \"http://pbs.twimg.com/profile_background_images/530621788296708096/0PC5jMnX.png\", \"screen_name\": \"jreuben1\", \"lang\": \"en\", \"profile_background_tile\": true, \"favourites_count\": 53, \"name\": \"(((JReuben1)))\", \"notifications\": false, \"url\": \"http://t.co/ciEpM3Iw8h\", \"created_at\": \"Wed Dec 24 20:44:32 +0000 2008\", \"contributors_enabled\": false, \"time_zone\": \"Jerusalem\", \"protected\": false, \"default_profile\": false, \"is_translator\": false}, \"geo\": null, \"in_reply_to_user_id_str\": null, \"possibly_sensitive\": false, \"lang\": \"en\", \"created_at\": \"Fri May 26 15:46:03 +0000 2017\", \"in_reply_to_status_id_str\": null, \"place\": null}\n",
      "{\"contributors\": null, \"truncated\": false, \"text\": \"Fantastic post by @timperrett about the roles of Nomad/Consul/Envoy in his team\\u2019s infrastructure/platform https://t.co/OoYwX6kpap\", \"is_quote_status\": false, \"in_reply_to_status_id\": null, \"id\": 868138857409032193, \"favorite_count\": 26, \"source\": \"<a href=\\\"http://sites.google.com/site/yorufukurou/\\\" rel=\\\"nofollow\\\">YoruFukurou</a>\", \"retweeted\": false, \"coordinates\": null, \"entities\": {\"symbols\": [], \"user_mentions\": [{\"id\": 15123574, \"indices\": [18, 29], \"id_str\": \"15123574\", \"screen_name\": \"timperrett\", \"name\": \"Timothy Perrett\"}], \"hashtags\": [], \"urls\": [{\"url\": \"https://t.co/OoYwX6kpap\", \"indices\": [106, 129], \"expanded_url\": \"http://timperrett.com/2017/05/13/nomad-with-envoy-and-consul\", \"display_url\": \"timperrett.com/2017/05/13/nom\\u2026\"}]}, \"in_reply_to_screen_name\": null, \"in_reply_to_user_id\": null, \"retweet_count\": 6, \"id_str\": \"868138857409032193\", \"favorited\": true, \"user\": {\"follow_request_sent\": false, \"has_extended_profile\": false, \"profile_use_background_image\": true, \"default_profile_image\": false, \"id\": 16935750, \"profile_background_image_url_https\": \"https://abs.twimg.com/images/themes/theme1/bg.png\", \"verified\": false, \"translator_type\": \"none\", \"profile_text_color\": \"333333\", \"profile_image_url_https\": \"https://pbs.twimg.com/profile_images/831009459350577152/MYoINY4u_normal.jpg\", \"profile_sidebar_fill_color\": \"DDEEF6\", \"entities\": {\"description\": {\"urls\": []}}, \"followers_count\": 5658, \"profile_sidebar_border_color\": \"C0DEED\", \"id_str\": \"16935750\", \"profile_background_color\": \"C0DEED\", \"listed_count\": 340, \"is_translation_enabled\": false, \"utc_offset\": -14400, \"statuses_count\": 25788, \"description\": \"Noted Lambda hater. Author of Effective Akka, contributor to Reactive Design Patterns. #H2P\", \"friends_count\": 460, \"location\": \"Seattle, WA\", \"profile_link_color\": \"1DA1F2\", \"profile_image_url\": \"http://pbs.twimg.com/profile_images/831009459350577152/MYoINY4u_normal.jpg\", \"following\": true, \"geo_enabled\": false, \"profile_background_image_url\": \"http://abs.twimg.com/images/themes/theme1/bg.png\", \"screen_name\": \"jamie_allen\", \"lang\": \"en\", \"profile_background_tile\": false, \"favourites_count\": 16680, \"name\": \"Jamie Allen\", \"notifications\": false, \"url\": null, \"created_at\": \"Thu Oct 23 21:13:35 +0000 2008\", \"contributors_enabled\": false, \"time_zone\": \"Eastern Time (US & Canada)\", \"protected\": false, \"default_profile\": true, \"is_translator\": false}, \"geo\": null, \"in_reply_to_user_id_str\": null, \"possibly_sensitive\": false, \"lang\": \"en\", \"created_at\": \"Fri May 26 16:16:47 +0000 2017\", \"in_reply_to_status_id_str\": null, \"place\": null}\n",
      "{\"contributors\": null, \"truncated\": false, \"text\": \"The promise of completely changing how I think about data was not hyperbole. Wow this is good. https://t.co/S0JoaZ8m07\", \"is_quote_status\": false, \"in_reply_to_status_id\": null, \"id\": 868168365839327232, \"favorite_count\": 18, \"source\": \"<a href=\\\"http://twitter.com\\\" rel=\\\"nofollow\\\">Twitter Web Client</a>\", \"retweeted\": false, \"coordinates\": null, \"entities\": {\"symbols\": [], \"user_mentions\": [], \"hashtags\": [], \"urls\": [{\"url\": \"https://t.co/S0JoaZ8m07\", \"indices\": [95, 118], \"expanded_url\": \"https://medium.com/microsoft-design/if-you-want-to-be-creative-dont-be-data-driven-55db74078eda\", \"display_url\": \"medium.com/microsoft-desi\\u2026\"}]}, \"in_reply_to_screen_name\": null, \"in_reply_to_user_id\": null, \"retweet_count\": 4, \"id_str\": \"868168365839327232\", \"favorited\": true, \"user\": {\"follow_request_sent\": false, \"has_extended_profile\": false, \"profile_use_background_image\": true, \"default_profile_image\": false, \"id\": 774280, \"profile_background_image_url_https\": \"https://pbs.twimg.com/profile_background_images/115093920/twitter-background.jpg\", \"verified\": true, \"translator_type\": \"none\", \"profile_text_color\": \"000000\", \"profile_image_url_https\": \"https://pbs.twimg.com/profile_images/1689518203/avatar-large2_normal.jpg\", \"profile_sidebar_fill_color\": \"291808\", \"entities\": {\"url\": {\"urls\": [{\"url\": \"https://t.co/GruPMf44hV\", \"indices\": [0, 23], \"expanded_url\": \"http://daveshea.com/\", \"display_url\": \"daveshea.com\"}]}, \"description\": {\"urls\": []}}, \"followers_count\": 140147, \"profile_sidebar_border_color\": \"000000\", \"id_str\": \"774280\", \"profile_background_color\": \"000000\", \"listed_count\": 2157, \"is_translation_enabled\": false, \"utc_offset\": -25200, \"statuses_count\": 20858, \"description\": \"\\ud83d\\udeb4 \\ud83c\\udfc2\\ud83c\\udf7a\\u2615\\ufe0f \\ud83c\\udf5c\\ud83e\\udd56\\ud83c\\udf2e \\ud83c\\udfa8 \\ud83d\\udcbb \\ud83d\\udcf1 pretty much\", \"friends_count\": 341, \"location\": \"Vancouver\", \"profile_link_color\": \"000000\", \"profile_image_url\": \"http://pbs.twimg.com/profile_images/1689518203/avatar-large2_normal.jpg\", \"following\": true, \"geo_enabled\": true, \"profile_banner_url\": \"https://pbs.twimg.com/profile_banners/774280/1371766562\", \"profile_background_image_url\": \"http://pbs.twimg.com/profile_background_images/115093920/twitter-background.jpg\", \"screen_name\": \"mezzoblue\", \"lang\": \"en\", \"profile_background_tile\": false, \"favourites_count\": 843, \"name\": \"Dave Shea\", \"notifications\": false, \"url\": \"https://t.co/GruPMf44hV\", \"created_at\": \"Thu Feb 15 19:27:28 +0000 2007\", \"contributors_enabled\": false, \"time_zone\": \"Pacific Time (US & Canada)\", \"protected\": false, \"default_profile\": false, \"is_translator\": false}, \"geo\": null, \"in_reply_to_user_id_str\": null, \"possibly_sensitive\": false, \"lang\": \"en\", \"created_at\": \"Fri May 26 18:14:02 +0000 2017\", \"in_reply_to_status_id_str\": null, \"place\": {\"full_name\": \"Vancouver, British Columbia\", \"url\": \"https://api.twitter.com/1.1/geo/id/1e5cb4d0509db554.json\", \"country\": \"Canada\", \"place_type\": \"city\", \"bounding_box\": {\"type\": \"Polygon\", \"coordinates\": [[[-123.224215, 49.19854], [-123.022947, 49.19854], [-123.022947, 49.316738], [-123.224215, 49.316738]]]}, \"contained_within\": [], \"country_code\": \"CA\", \"attributes\": {}, \"id\": \"1e5cb4d0509db554\", \"name\": \"Vancouver\"}}\n",
      "{\"contributors\": null, \"truncated\": false, \"text\": \"Helping is the new selling via @Drift and @Mattermark https://t.co/Nyf6uCggNF https://t.co/emNkbJaWlf\", \"is_quote_status\": false, \"in_reply_to_status_id\": null, \"id\": 868178179596460033, \"favorite_count\": 5, \"source\": \"<a href=\\\"http://bufferapp.com\\\" rel=\\\"nofollow\\\">Buffer</a>\", \"retweeted\": false, \"coordinates\": null, \"entities\": {\"symbols\": [], \"user_mentions\": [{\"id\": 2733318672, \"indices\": [31, 37], \"id_str\": \"2733318672\", \"screen_name\": \"Drift\", \"name\": \"Drift\"}, {\"id\": 1434164370, \"indices\": [42, 53], \"id_str\": \"1434164370\", \"screen_name\": \"Mattermark\", \"name\": \"Mattermark\"}], \"hashtags\": [], \"urls\": [{\"url\": \"https://t.co/Nyf6uCggNF\", \"indices\": [54, 77], \"expanded_url\": \"http://buff.ly/2rYWngY\", \"display_url\": \"buff.ly/2rYWngY\"}], \"media\": [{\"expanded_url\": \"https://twitter.com/davidbozin/status/868178179596460033/photo/1\", \"display_url\": \"pic.twitter.com/emNkbJaWlf\", \"url\": \"https://t.co/emNkbJaWlf\", \"media_url_https\": \"https://pbs.twimg.com/media/DAxjc2qXYAAebqH.jpg\", \"id_str\": \"868178175536357376\", \"sizes\": {\"large\": {\"h\": 1127, \"resize\": \"fit\", \"w\": 2048}, \"small\": {\"h\": 374, \"resize\": \"fit\", \"w\": 680}, \"medium\": {\"h\": 661, \"resize\": \"fit\", \"w\": 1200}, \"thumb\": {\"h\": 150, \"resize\": \"crop\", \"w\": 150}}, \"indices\": [78, 101], \"type\": \"photo\", \"id\": 868178175536357376, \"media_url\": \"http://pbs.twimg.com/media/DAxjc2qXYAAebqH.jpg\"}]}, \"in_reply_to_screen_name\": null, \"in_reply_to_user_id\": null, \"retweet_count\": 2, \"id_str\": \"868178179596460033\", \"favorited\": true, \"user\": {\"follow_request_sent\": false, \"has_extended_profile\": false, \"profile_use_background_image\": false, \"default_profile_image\": false, \"id\": 267379698, \"profile_background_image_url_https\": \"https://pbs.twimg.com/profile_background_images/435258029182042112/WONfIDA1.jpeg\", \"verified\": false, \"translator_type\": \"none\", \"profile_text_color\": \"2C2C2C\", \"profile_image_url_https\": \"https://pbs.twimg.com/profile_images/629334777364000768/eIWRtUae_normal.jpg\", \"profile_sidebar_fill_color\": \"FFFFFF\", \"entities\": {\"url\": {\"urls\": [{\"url\": \"https://t.co/8T8yjXnspW\", \"indices\": [0, 23], \"expanded_url\": \"http://focusedhustle.com\", \"display_url\": \"focusedhustle.com\"}]}, \"description\": {\"urls\": [{\"url\": \"https://t.co/85FJMTzixv\", \"indices\": [60, 83], \"expanded_url\": \"http://PYMNTS.com\", \"display_url\": \"PYMNTS.com\"}]}}, \"followers_count\": 273, \"profile_sidebar_border_color\": \"FFFFFF\", \"id_str\": \"267379698\", \"profile_background_color\": \"FFFFFF\", \"listed_count\": 69, \"is_translation_enabled\": false, \"utc_offset\": -25200, \"statuses_count\": 1429, \"description\": \"Entrepreneur, Creator and Design Thinker. Featured on CNBC, https://t.co/85FJMTzixv, TC, TNW\", \"friends_count\": 392, \"location\": \"New York City, New York\", \"profile_link_color\": \"19CF86\", \"profile_image_url\": \"http://pbs.twimg.com/profile_images/629334777364000768/eIWRtUae_normal.jpg\", \"following\": false, \"geo_enabled\": false, \"profile_banner_url\": \"https://pbs.twimg.com/profile_banners/267379698/1438880107\", \"profile_background_image_url\": \"http://pbs.twimg.com/profile_background_images/435258029182042112/WONfIDA1.jpeg\", \"screen_name\": \"davidbozin\", \"lang\": \"en\", \"profile_background_tile\": false, \"favourites_count\": 213, \"name\": \"David Bozin\", \"notifications\": false, \"url\": \"https://t.co/8T8yjXnspW\", \"created_at\": \"Wed Mar 16 21:03:01 +0000 2011\", \"contributors_enabled\": false, \"time_zone\": \"Pacific Time (US & Canada)\", \"protected\": false, \"default_profile\": false, \"is_translator\": false}, \"geo\": null, \"in_reply_to_user_id_str\": null, \"possibly_sensitive\": false, \"lang\": \"en\", \"created_at\": \"Fri May 26 18:53:02 +0000 2017\", \"in_reply_to_status_id_str\": null, \"place\": null, \"extended_entities\": {\"media\": [{\"expanded_url\": \"https://twitter.com/davidbozin/status/868178179596460033/photo/1\", \"display_url\": \"pic.twitter.com/emNkbJaWlf\", \"url\": \"https://t.co/emNkbJaWlf\", \"media_url_https\": \"https://pbs.twimg.com/media/DAxjc2qXYAAebqH.jpg\", \"id_str\": \"868178175536357376\", \"sizes\": {\"large\": {\"h\": 1127, \"resize\": \"fit\", \"w\": 2048}, \"small\": {\"h\": 374, \"resize\": \"fit\", \"w\": 680}, \"medium\": {\"h\": 661, \"resize\": \"fit\", \"w\": 1200}, \"thumb\": {\"h\": 150, \"resize\": \"crop\", \"w\": 150}}, \"indices\": [78, 101], \"type\": \"photo\", \"id\": 868178175536357376, \"media_url\": \"http://pbs.twimg.com/media/DAxjc2qXYAAebqH.jpg\"}]}}\n",
      "{\"contributors\": null, \"truncated\": true, \"text\": \"Yeah, @mamund is getting a little too close to an ideal talk about hypermedia's role in APIs. Time to change the wo\\u2026 https://t.co/obKhgNU6Xi\", \"is_quote_status\": true, \"in_reply_to_status_id\": null, \"id\": 868199862637961216, \"favorite_count\": 119, \"source\": \"<a href=\\\"http://twitter.com\\\" rel=\\\"nofollow\\\">Twitter Web Client</a>\", \"quoted_status_id\": 863806635818369024, \"retweeted\": false, \"coordinates\": null, \"quoted_status\": {\"contributors\": null, \"truncated\": false, \"text\": \"If you\\u2019re remotely interested in APIs you need to watch @mamund\\u2019s talk. Bottom line: how do we build APIs for AI - https://t.co/e9N4IeYqzz\", \"is_quote_status\": false, \"in_reply_to_status_id\": null, \"id\": 863806635818369024, \"favorite_count\": 109, \"source\": \"<a href=\\\"http://tapbots.com/software/tweetbot/mac\\\" rel=\\\"nofollow\\\">Tweetbot for Mac</a>\", \"retweeted\": false, \"coordinates\": null, \"entities\": {\"symbols\": [], \"user_mentions\": [{\"id\": 1121591, \"indices\": [56, 63], \"id_str\": \"1121591\", \"screen_name\": \"mamund\", \"name\": \"Mike Amundsen\"}], \"hashtags\": [], \"urls\": [{\"url\": \"https://t.co/e9N4IeYqzz\", \"indices\": [115, 138], \"expanded_url\": \"http://www.ustream.tv/recorded/102891495\", \"display_url\": \"ustream.tv/recorded/10289\\u2026\"}]}, \"in_reply_to_screen_name\": null, \"in_reply_to_user_id\": null, \"retweet_count\": 29, \"id_str\": \"863806635818369024\", \"favorited\": false, \"user\": {\"follow_request_sent\": false, \"has_extended_profile\": false, \"profile_use_background_image\": true, \"default_profile_image\": false, \"id\": 8544142, \"profile_background_image_url_https\": \"https://pbs.twimg.com/profile_background_images/659174057716285440/fBD38U2s.jpg\", \"verified\": false, \"translator_type\": \"none\", \"profile_text_color\": \"666666\", \"profile_image_url_https\": \"https://pbs.twimg.com/profile_images/823068964469100544/8UwiDdGm_normal.jpg\", \"profile_sidebar_fill_color\": \"252429\", \"entities\": {\"url\": {\"urls\": [{\"url\": \"http://t.co/ijIfjFnQ42\", \"indices\": [0, 22], \"expanded_url\": \"http://www.linkedin.com/in/emmanuelparaskakis\", \"display_url\": \"linkedin.com/in/emmanuelpar\\u2026\"}]}, \"description\": {\"urls\": []}}, \"followers_count\": 2491, \"profile_sidebar_border_color\": \"181A1E\", \"id_str\": \"8544142\", \"profile_background_color\": \"1A1B1F\", \"listed_count\": 175, \"is_translation_enabled\": false, \"utc_offset\": -25200, \"statuses_count\": 12018, \"description\": \"SaaS Entrepreneur, Product guy at Apiary.io, API Geek, API Craft San Francisco Meetup Group organizer, Node.js, Private Pilot, BBQ, Maya's and Sofia's Dad!\", \"friends_count\": 3665, \"location\": \"San Francisco\", \"profile_link_color\": \"2D2E3F\", \"profile_image_url\": \"http://pbs.twimg.com/profile_images/823068964469100544/8UwiDdGm_normal.jpg\", \"following\": false, \"geo_enabled\": false, \"profile_banner_url\": \"https://pbs.twimg.com/profile_banners/8544142/1464926902\", \"profile_background_image_url\": \"http://pbs.twimg.com/profile_background_images/659174057716285440/fBD38U2s.jpg\", \"screen_name\": \"manp\", \"lang\": \"en\", \"profile_background_tile\": false, \"favourites_count\": 5582, \"name\": \"Emmanuel Paraskakis\", \"notifications\": false, \"url\": \"http://t.co/ijIfjFnQ42\", \"created_at\": \"Thu Aug 30 21:06:20 +0000 2007\", \"contributors_enabled\": false, \"time_zone\": \"Pacific Time (US & Canada)\", \"protected\": false, \"default_profile\": false, \"is_translator\": false}, \"geo\": null, \"in_reply_to_user_id_str\": null, \"possibly_sensitive\": false, \"lang\": \"en\", \"created_at\": \"Sun May 14 17:22:05 +0000 2017\", \"in_reply_to_status_id_str\": null, \"place\": null}, \"entities\": {\"symbols\": [], \"user_mentions\": [{\"id\": 1121591, \"indices\": [6, 13], \"id_str\": \"1121591\", \"screen_name\": \"mamund\", \"name\": \"Mike Amundsen\"}], \"hashtags\": [], \"urls\": [{\"url\": \"https://t.co/obKhgNU6Xi\", \"indices\": [117, 140], \"expanded_url\": \"https://twitter.com/i/web/status/868199862637961216\", \"display_url\": \"twitter.com/i/web/status/8\\u2026\"}]}, \"in_reply_to_screen_name\": null, \"in_reply_to_user_id\": null, \"retweet_count\": 44, \"id_str\": \"868199862637961216\", \"favorited\": true, \"user\": {\"follow_request_sent\": false, \"has_extended_profile\": false, \"profile_use_background_image\": true, \"default_profile_image\": false, \"id\": 9081272, \"profile_background_image_url_https\": \"https://pbs.twimg.com/profile_background_images/544956697/omokoroa2.jpg\", \"verified\": false, \"translator_type\": \"none\", \"profile_text_color\": \"666666\", \"profile_image_url_https\": \"https://pbs.twimg.com/profile_images/2195030209/roy_fielding_sq_normal.jpg\", \"profile_sidebar_fill_color\": \"252429\", \"entities\": {\"url\": {\"urls\": [{\"url\": \"http://t.co/9VwMzunjS6\", \"indices\": [0, 22], \"expanded_url\": \"http://roy.gbiv.com/\", \"display_url\": \"roy.gbiv.com\"}]}, \"description\": {\"urls\": []}}, \"followers_count\": 9470, \"profile_sidebar_border_color\": \"181A1E\", \"id_str\": \"9081272\", \"profile_background_color\": \"1A1B1F\", \"listed_count\": 492, \"is_translation_enabled\": false, \"utc_offset\": -25200, \"statuses_count\": 1043, \"description\": \"Senior Principal Scientist at Adobe, co-founded Apache, authored the REST architectural style and Web standards for URI, HTTP/1.x, and URI Templates.\", \"friends_count\": 128, \"location\": \"Tustin, CA, USA\", \"profile_link_color\": \"2FC2EF\", \"profile_image_url\": \"http://pbs.twimg.com/profile_images/2195030209/roy_fielding_sq_normal.jpg\", \"following\": false, \"geo_enabled\": false, \"profile_background_image_url\": \"http://pbs.twimg.com/profile_background_images/544956697/omokoroa2.jpg\", \"screen_name\": \"fielding\", \"lang\": \"en\", \"profile_background_tile\": false, \"favourites_count\": 11, \"name\": \"Roy T. Fielding\", \"notifications\": false, \"url\": \"http://t.co/9VwMzunjS6\", \"created_at\": \"Tue Sep 25 00:19:11 +0000 2007\", \"contributors_enabled\": false, \"time_zone\": \"Pacific Time (US & Canada)\", \"protected\": false, \"default_profile\": false, \"is_translator\": false}, \"geo\": null, \"in_reply_to_user_id_str\": null, \"possibly_sensitive\": false, \"lang\": \"en\", \"created_at\": \"Fri May 26 20:19:12 +0000 2017\", \"quoted_status_id_str\": \"863806635818369024\", \"in_reply_to_status_id_str\": null, \"place\": null}\n",
      "{\"contributors\": null, \"truncated\": false, \"text\": \"What we learned from three years of interviews with data journalists, web developers and interactive editors  https://t.co/QcP7GUerP3\", \"is_quote_status\": false, \"in_reply_to_status_id\": null, \"id\": 868201468934967298, \"favorite_count\": 53, \"source\": \"<a href=\\\"http://twitter.com/#!/download/ipad\\\" rel=\\\"nofollow\\\">Twitter for iPad</a>\", \"retweeted\": false, \"coordinates\": null, \"entities\": {\"symbols\": [], \"user_mentions\": [], \"hashtags\": [], \"urls\": [{\"url\": \"https://t.co/QcP7GUerP3\", \"indices\": [110, 133], \"expanded_url\": \"http://www.storybench.org/learned-three-years-interviews-data-journalists-web-developers-interactive-editors-leading-digital-newsrooms/\", \"display_url\": \"storybench.org/learned-three-\\u2026\"}]}, \"in_reply_to_screen_name\": null, \"in_reply_to_user_id\": null, \"retweet_count\": 28, \"id_str\": \"868201468934967298\", \"favorited\": true, \"user\": {\"follow_request_sent\": false, \"has_extended_profile\": false, \"profile_use_background_image\": true, \"default_profile_image\": false, \"id\": 760654, \"profile_background_image_url_https\": \"https://pbs.twimg.com/profile_background_images/74426603/twilk_background_4b744feaa2129.jpg\", \"verified\": false, \"translator_type\": \"none\", \"profile_text_color\": \"000000\", \"profile_image_url_https\": \"https://pbs.twimg.com/profile_images/736222222612844545/K192YFZb_normal.jpg\", \"profile_sidebar_fill_color\": \"E0FF92\", \"entities\": {\"url\": {\"urls\": [{\"url\": \"https://t.co/wIzDQ2uwls\", \"indices\": [0, 23], \"expanded_url\": \"http://onlinejournalismblog.com/\", \"display_url\": \"onlinejournalismblog.com\"}]}, \"description\": {\"urls\": [{\"url\": \"https://t.co/RFbkqCDzxC\", \"indices\": [79, 102], \"expanded_url\": \"http://bit.ly/1LFDK3T\", \"display_url\": \"bit.ly/1LFDK3T\"}, {\"url\": \"https://t.co/ooMdu7KXC0\", \"indices\": [110, 133], \"expanded_url\": \"https://leanpub.com/u/paulbradshaw\", \"display_url\": \"leanpub.com/u/paulbradshaw\"}]}}, \"followers_count\": 25580, \"profile_sidebar_border_color\": \"87BC44\", \"id_str\": \"760654\", \"profile_background_color\": \"FFFFFF\", \"listed_count\": 2658, \"is_translation_enabled\": false, \"utc_offset\": 3600, \"statuses_count\": 46645, \"description\": \"Run the MA Data Journalism + MA Multiplatform and Mobile Journalism @bcumedia: https://t.co/RFbkqCDzxC Books: https://t.co/ooMdu7KXC0 PGP: 0x540d6e3f\", \"friends_count\": 10466, \"location\": \"Birmingham, UK\", \"profile_link_color\": \"0000FF\", \"profile_image_url\": \"http://pbs.twimg.com/profile_images/736222222612844545/K192YFZb_normal.jpg\", \"following\": false, \"geo_enabled\": true, \"profile_banner_url\": \"https://pbs.twimg.com/profile_banners/760654/1495038863\", \"profile_background_image_url\": \"http://pbs.twimg.com/profile_background_images/74426603/twilk_background_4b744feaa2129.jpg\", \"screen_name\": \"paulbradshaw\", \"lang\": \"en\", \"profile_background_tile\": true, \"favourites_count\": 1607, \"name\": \"Paul Bradshaw\", \"notifications\": false, \"url\": \"https://t.co/wIzDQ2uwls\", \"created_at\": \"Fri Feb 09 15:42:26 +0000 2007\", \"contributors_enabled\": false, \"time_zone\": \"London\", \"protected\": false, \"default_profile\": false, \"is_translator\": false}, \"geo\": null, \"in_reply_to_user_id_str\": null, \"possibly_sensitive\": false, \"lang\": \"en\", \"created_at\": \"Fri May 26 20:25:35 +0000 2017\", \"in_reply_to_status_id_str\": null, \"place\": null}\n",
      "{\"contributors\": null, \"truncated\": false, \"text\": \"Event Driven SaaS - The Workflow of the Future https://t.co/5amhmS5j6q\", \"is_quote_status\": false, \"in_reply_to_status_id\": null, \"id\": 868252200790786048, \"favorite_count\": 56, \"source\": \"<a href=\\\"http://bufferapp.com\\\" rel=\\\"nofollow\\\">Buffer</a>\", \"retweeted\": false, \"coordinates\": null, \"entities\": {\"symbols\": [], \"user_mentions\": [], \"hashtags\": [], \"urls\": [{\"url\": \"https://t.co/5amhmS5j6q\", \"indices\": [47, 70], \"expanded_url\": \"http://bit.ly/2r5TZXV\", \"display_url\": \"bit.ly/2r5TZXV\"}]}, \"in_reply_to_screen_name\": null, \"in_reply_to_user_id\": null, \"retweet_count\": 22, \"id_str\": \"868252200790786048\", \"favorited\": true, \"user\": {\"follow_request_sent\": false, \"has_extended_profile\": false, \"profile_use_background_image\": true, \"default_profile_image\": false, \"id\": 10069172, \"profile_background_image_url_https\": \"https://pbs.twimg.com/profile_background_images/410237009/whitey.png\", \"verified\": false, \"translator_type\": \"none\", \"profile_text_color\": \"333333\", \"profile_image_url_https\": \"https://pbs.twimg.com/profile_images/479716534428778496/Z63X3mCx_normal.jpeg\", \"profile_sidebar_fill_color\": \"C9C9C9\", \"entities\": {\"url\": {\"urls\": [{\"url\": \"http://t.co/KAsAauQrxO\", \"indices\": [0, 22], \"expanded_url\": \"http://www.tomtunguz.com\", \"display_url\": \"tomtunguz.com\"}]}, \"description\": {\"urls\": [{\"url\": \"https://t.co/HZvBaQXVE5\", \"indices\": [69, 92], \"expanded_url\": \"http://amzn.to/1UQAMSr\", \"display_url\": \"amzn.to/1UQAMSr\"}]}}, \"followers_count\": 63669, \"profile_sidebar_border_color\": \"D9D9D9\", \"id_str\": \"10069172\", \"profile_background_color\": \"FFF04D\", \"listed_count\": 2057, \"is_translation_enabled\": false, \"utc_offset\": -25200, \"statuses_count\": 9422, \"description\": \"Venture capitalist at Redpoint Ventures. Author of Winning with Data https://t.co/HZvBaQXVE5\", \"friends_count\": 436, \"location\": \"San Francisco, CA\", \"profile_link_color\": \"FF0000\", \"profile_image_url\": \"http://pbs.twimg.com/profile_images/479716534428778496/Z63X3mCx_normal.jpeg\", \"following\": false, \"geo_enabled\": false, \"profile_banner_url\": \"https://pbs.twimg.com/profile_banners/10069172/1399756352\", \"profile_background_image_url\": \"http://pbs.twimg.com/profile_background_images/410237009/whitey.png\", \"screen_name\": \"ttunguz\", \"lang\": \"en\", \"profile_background_tile\": true, \"favourites_count\": 1476, \"name\": \"Tomasz Tunguz\", \"notifications\": false, \"url\": \"http://t.co/KAsAauQrxO\", \"created_at\": \"Thu Nov 08 15:43:16 +0000 2007\", \"contributors_enabled\": false, \"time_zone\": \"Pacific Time (US & Canada)\", \"protected\": false, \"default_profile\": false, \"is_translator\": false}, \"geo\": null, \"in_reply_to_user_id_str\": null, \"possibly_sensitive\": false, \"lang\": \"en\", \"created_at\": \"Fri May 26 23:47:10 +0000 2017\", \"in_reply_to_status_id_str\": null, \"place\": null}\n",
      "{\"contributors\": null, \"truncated\": true, \"text\": \"Speaker Carin Meier (@gigasquid) wrote a Clojure book &amp; presents unconventional topics such as \\u2018chemical computing\\u2019\\u2026 https://t.co/7eOTPZda50\", \"is_quote_status\": false, \"in_reply_to_status_id\": null, \"id\": 868382271958634497, \"favorite_count\": 26, \"source\": \"<a href=\\\"http://bufferapp.com\\\" rel=\\\"nofollow\\\">Buffer</a>\", \"retweeted\": false, \"coordinates\": null, \"entities\": {\"symbols\": [], \"user_mentions\": [{\"id\": 115557940, \"indices\": [21, 31], \"id_str\": \"115557940\", \"screen_name\": \"gigasquid\", \"name\": \"Gigasquid\"}], \"hashtags\": [], \"urls\": [{\"url\": \"https://t.co/7eOTPZda50\", \"indices\": [121, 144], \"expanded_url\": \"https://twitter.com/i/web/status/868382271958634497\", \"display_url\": \"twitter.com/i/web/status/8\\u2026\"}]}, \"in_reply_to_screen_name\": null, \"in_reply_to_user_id\": null, \"retweet_count\": 17, \"id_str\": \"868382271958634497\", \"favorited\": true, \"user\": {\"follow_request_sent\": false, \"has_extended_profile\": false, \"profile_use_background_image\": true, \"default_profile_image\": false, \"id\": 850711898, \"profile_background_image_url_https\": \"https://abs.twimg.com/images/themes/theme1/bg.png\", \"verified\": false, \"translator_type\": \"none\", \"profile_text_color\": \"333333\", \"profile_image_url_https\": \"https://pbs.twimg.com/profile_images/857574216266387456/BX33QWZ2_normal.jpg\", \"profile_sidebar_fill_color\": \"DDEEF6\", \"entities\": {\"url\": {\"urls\": [{\"url\": \"https://t.co/MJpI9Ccnyh\", \"indices\": [0, 23], \"expanded_url\": \"http://joyofcoding.org\", \"display_url\": \"joyofcoding.org\"}]}, \"description\": {\"urls\": []}}, \"followers_count\": 1157, \"profile_sidebar_border_color\": \"C0DEED\", \"id_str\": \"850711898\", \"profile_background_color\": \"C0DEED\", \"listed_count\": 47, \"is_translation_enabled\": false, \"utc_offset\": 7200, \"statuses_count\": 835, \"description\": \"30 June 2017 - A one-day conference that celebrates the art, craft, science but foremost the joy of software development.\", \"friends_count\": 2, \"location\": \"Rotterdam\", \"profile_link_color\": \"1DA1F2\", \"profile_image_url\": \"http://pbs.twimg.com/profile_images/857574216266387456/BX33QWZ2_normal.jpg\", \"following\": false, \"geo_enabled\": true, \"profile_banner_url\": \"https://pbs.twimg.com/profile_banners/850711898/1493296233\", \"profile_background_image_url\": \"http://abs.twimg.com/images/themes/theme1/bg.png\", \"screen_name\": \"JoyOfCoding\", \"lang\": \"en\", \"profile_background_tile\": false, \"favourites_count\": 140, \"name\": \"JoyOfCoding\", \"notifications\": false, \"url\": \"https://t.co/MJpI9Ccnyh\", \"created_at\": \"Fri Sep 28 08:38:08 +0000 2012\", \"contributors_enabled\": false, \"time_zone\": \"Amsterdam\", \"protected\": false, \"default_profile\": true, \"is_translator\": false}, \"geo\": null, \"in_reply_to_user_id_str\": null, \"possibly_sensitive\": false, \"lang\": \"en\", \"created_at\": \"Sat May 27 08:24:02 +0000 2017\", \"in_reply_to_status_id_str\": null, \"place\": null}\n",
      "{\"contributors\": null, \"truncated\": true, \"text\": \"@crtr0 very cool! Gotta get you chatting to @keithwhor who\\u2019s building @StdLibHQ https://t.co/V74J2E5aIi - great com\\u2026 https://t.co/9Xk2ToodBY\", \"is_quote_status\": false, \"in_reply_to_status_id\": 868533471454445568, \"id\": 868534740210524160, \"favorite_count\": 2, \"source\": \"<a href=\\\"http://tapbots.com/tweetbot\\\" rel=\\\"nofollow\\\">Tweetbot for i\\u039fS</a>\", \"retweeted\": false, \"coordinates\": null, \"entities\": {\"symbols\": [], \"user_mentions\": [{\"id\": 89318473, \"indices\": [0, 6], \"id_str\": \"89318473\", \"screen_name\": \"crtr0\", \"name\": \"Carter Rabasa\"}, {\"id\": 227391893, \"indices\": [44, 54], \"id_str\": \"227391893\", \"screen_name\": \"keithwhor\", \"name\": \"Keith Horwood\"}, {\"id\": 722579682298880000, \"indices\": [70, 79], \"id_str\": \"722579682298880000\", \"screen_name\": \"StdLibHQ\", \"name\": \"Standard Library\"}], \"hashtags\": [], \"urls\": [{\"url\": \"https://t.co/V74J2E5aIi\", \"indices\": [80, 103], \"expanded_url\": \"https://stdlib.com/\", \"display_url\": \"stdlib.com\"}, {\"url\": \"https://t.co/9Xk2ToodBY\", \"indices\": [117, 140], \"expanded_url\": \"https://twitter.com/i/web/status/868534740210524160\", \"display_url\": \"twitter.com/i/web/status/8\\u2026\"}]}, \"in_reply_to_screen_name\": \"crtr0\", \"in_reply_to_user_id\": 89318473, \"retweet_count\": 0, \"id_str\": \"868534740210524160\", \"favorited\": true, \"user\": {\"follow_request_sent\": false, \"has_extended_profile\": false, \"profile_use_background_image\": true, \"default_profile_image\": false, \"id\": 10821, \"profile_background_image_url_https\": \"https://pbs.twimg.com/profile_background_images/424181046/bmann_tristan_iq.jpg\", \"verified\": false, \"translator_type\": \"none\", \"profile_text_color\": \"494949\", \"profile_image_url_https\": \"https://pbs.twimg.com/profile_images/860693060467924993/QjGcdcLl_normal.jpg\", \"profile_sidebar_fill_color\": \"E1F0FA\", \"entities\": {\"url\": {\"urls\": [{\"url\": \"https://t.co/EWo80AKP8E\", \"indices\": [0, 23], \"expanded_url\": \"http://www.bmannconsulting.com\", \"display_url\": \"bmannconsulting.com\"}]}, \"description\": {\"urls\": []}}, \"followers_count\": 7753, \"profile_sidebar_border_color\": \"000000\", \"id_str\": \"10821\", \"profile_background_color\": \"000000\", \"listed_count\": 699, \"is_translation_enabled\": false, \"utc_offset\": -25200, \"statuses_count\": 22899, \"description\": \"Founder @frontierfoundry. Blockchain, AR/VR. Future of the web/work/venture. Vancouver. Canada. Startups. #ehlist\", \"friends_count\": 2802, \"location\": \"Vancouver, BC\", \"profile_link_color\": \"027AC6\", \"profile_image_url\": \"http://pbs.twimg.com/profile_images/860693060467924993/QjGcdcLl_normal.jpg\", \"following\": true, \"geo_enabled\": true, \"profile_banner_url\": \"https://pbs.twimg.com/profile_banners/10821/1494285178\", \"profile_background_image_url\": \"http://pbs.twimg.com/profile_background_images/424181046/bmann_tristan_iq.jpg\", \"screen_name\": \"bmann\", \"lang\": \"en\", \"profile_background_tile\": false, \"favourites_count\": 18256, \"name\": \"Boris Mann\", \"notifications\": false, \"url\": \"https://t.co/EWo80AKP8E\", \"created_at\": \"Fri Oct 27 17:16:00 +0000 2006\", \"contributors_enabled\": false, \"time_zone\": \"Pacific Time (US & Canada)\", \"protected\": false, \"default_profile\": false, \"is_translator\": false}, \"geo\": null, \"in_reply_to_user_id_str\": \"89318473\", \"possibly_sensitive\": false, \"lang\": \"en\", \"created_at\": \"Sat May 27 18:29:53 +0000 2017\", \"in_reply_to_status_id_str\": \"868533471454445568\", \"place\": {\"full_name\": \"Granview Woodland, Vancouver\", \"url\": \"https://api.twitter.com/1.1/geo/id/000954e45d3169bc.json\", \"country\": \"Canada\", \"place_type\": \"neighborhood\", \"bounding_box\": {\"type\": \"Polygon\", \"coordinates\": [[[-123.0776546, 49.2620988], [-123.056001, 49.2620988], [-123.056001, 49.292005], [-123.0776546, 49.292005]]]}, \"contained_within\": [], \"country_code\": \"CA\", \"attributes\": {}, \"id\": \"000954e45d3169bc\", \"name\": \"Granview Woodland\"}}\n",
      "{\"contributors\": null, \"truncated\": false, \"text\": \"ArrayCompress: Efficient Compression of Arrays to Strings - https://t.co/bX4115YjtK (Useful if you need to store as string in a DB.)\", \"is_quote_status\": false, \"in_reply_to_status_id\": null, \"id\": 868539047337185282, \"favorite_count\": 90, \"source\": \"<a href=\\\"http://bufferapp.com\\\" rel=\\\"nofollow\\\">Buffer</a>\", \"retweeted\": false, \"coordinates\": null, \"entities\": {\"symbols\": [], \"user_mentions\": [], \"hashtags\": [], \"urls\": [{\"url\": \"https://t.co/bX4115YjtK\", \"indices\": [60, 83], \"expanded_url\": \"https://github.com/sirrodgepodge/arrayCompress\", \"display_url\": \"github.com/sirrodgepodge/\\u2026\"}]}, \"in_reply_to_screen_name\": null, \"in_reply_to_user_id\": null, \"retweet_count\": 28, \"id_str\": \"868539047337185282\", \"favorited\": true, \"user\": {\"follow_request_sent\": false, \"has_extended_profile\": false, \"profile_use_background_image\": true, \"default_profile_image\": false, \"id\": 459275531, \"profile_background_image_url_https\": \"https://pbs.twimg.com/profile_background_images/558331836/jsbg.png\", \"verified\": false, \"translator_type\": \"none\", \"profile_text_color\": \"333333\", \"profile_image_url_https\": \"https://pbs.twimg.com/profile_images/877477206418653184/W63ZlNa1_normal.jpg\", \"profile_sidebar_fill_color\": \"FDFFF0\", \"entities\": {\"url\": {\"urls\": [{\"url\": \"http://t.co/yTZ4fsOxGj\", \"indices\": [0, 22], \"expanded_url\": \"http://jslive.com\", \"display_url\": \"jslive.com\"}]}, \"description\": {\"urls\": []}}, \"followers_count\": 263172, \"profile_sidebar_border_color\": \"F0EDDA\", \"id_str\": \"459275531\", \"profile_background_color\": \"51CBBF\", \"listed_count\": 5508, \"is_translation_enabled\": false, \"utc_offset\": -25200, \"statuses_count\": 8167, \"description\": \"Daily JavaScript / JS community news, links and events. Go to @reactdaily for React news.\", \"friends_count\": 198, \"location\": \"\", \"profile_link_color\": \"D4BB00\", \"profile_image_url\": \"http://pbs.twimg.com/profile_images/877477206418653184/W63ZlNa1_normal.jpg\", \"following\": true, \"geo_enabled\": false, \"profile_banner_url\": \"https://pbs.twimg.com/profile_banners/459275531/1458214369\", \"profile_background_image_url\": \"http://pbs.twimg.com/profile_background_images/558331836/jsbg.png\", \"screen_name\": \"JavaScriptDaily\", \"lang\": \"en\", \"profile_background_tile\": true, \"favourites_count\": 536, \"name\": \"JavaScript Daily\", \"notifications\": false, \"url\": \"http://t.co/yTZ4fsOxGj\", \"created_at\": \"Mon Jan 09 13:43:05 +0000 2012\", \"contributors_enabled\": false, \"time_zone\": \"Pacific Time (US & Canada)\", \"protected\": false, \"default_profile\": false, \"is_translator\": false}, \"geo\": null, \"in_reply_to_user_id_str\": null, \"possibly_sensitive\": false, \"lang\": \"en\", \"created_at\": \"Sat May 27 18:47:00 +0000 2017\", \"in_reply_to_status_id_str\": null, \"place\": null}\n"
     ]
    }
   ],
   "source": [
    "%%bash\n",
    "head output/TweetFavorited_RawTweetObject.json"
   ]
  },
  {
   "cell_type": "markdown",
   "metadata": {},
   "source": [
    "# Output"
   ]
  },
  {
   "cell_type": "markdown",
   "metadata": {},
   "source": [
    "`TweetFavorited_RawTweetObject.json` should exist:"
   ]
  },
  {
   "cell_type": "code",
   "execution_count": 49,
   "metadata": {},
   "outputs": [
    {
     "name": "stdout",
     "output_type": "stream",
     "text": [
      "-rw-r--r-- 1 jovyan users 9.9M Jun 21 12:36 output/TweetFavorited_RawTweetObject.json\n"
     ]
    }
   ],
   "source": [
    "%%bash\n",
    "ls -alph output/TweetFavorited_RawTweetObject.json"
   ]
  }
 ],
 "metadata": {
  "kernelspec": {
   "display_name": "Python 2",
   "language": "python",
   "name": "python2"
  },
  "language_info": {
   "codemirror_mode": {
    "name": "ipython",
    "version": 2
   },
   "file_extension": ".py",
   "mimetype": "text/x-python",
   "name": "python",
   "nbconvert_exporter": "python",
   "pygments_lexer": "ipython2",
   "version": "2.7.13"
  }
 },
 "nbformat": 4,
 "nbformat_minor": 1
}
