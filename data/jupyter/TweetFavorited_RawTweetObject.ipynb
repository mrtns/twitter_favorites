{
 "cells": [
  {
   "cell_type": "markdown",
   "metadata": {},
   "source": [
    "# Overview\n",
    "\n",
    "Given a `TweetFavorited_SummaryWithDecodedUrls` dataset, get the raw tweet object/record for each tweet."
   ]
  },
  {
   "cell_type": "markdown",
   "metadata": {},
   "source": [
    "# Dependencies"
   ]
  },
  {
   "cell_type": "markdown",
   "metadata": {},
   "source": [
    "## python, pip\n",
    "Verify:"
   ]
  },
  {
   "cell_type": "code",
   "execution_count": 59,
   "metadata": {},
   "outputs": [
    {
     "name": "stdout",
     "output_type": "stream",
     "text": [
      "/opt/conda/envs/python2/bin/python\n",
      "Python 2.7.13\n",
      "/opt/conda/envs/python2/bin/pip\n",
      "pip 9.0.1 from /opt/conda/envs/python2/lib/python2.7/site-packages (python 2.7)\n"
     ]
    }
   ],
   "source": [
    "%%bash\n",
    "command -v python || { echo >&2 \"python not found\";} \n",
    "bash -c \"python --version 2>&1\"\n",
    "command -v pip || { echo >&2 \"pip not found\";} \n",
    "pip --version"
   ]
  },
  {
   "cell_type": "markdown",
   "metadata": {},
   "source": [
    "## wget\n",
    "Verify:"
   ]
  },
  {
   "cell_type": "code",
   "execution_count": 56,
   "metadata": {},
   "outputs": [
    {
     "name": "stdout",
     "output_type": "stream",
     "text": [
      "/usr/bin/wget\n",
      "GNU Wget 1.16 built on linux-gnu.\n"
     ]
    }
   ],
   "source": [
    "%%bash\n",
    "command -v wget || { echo >&2 \"wget not found\";} \n",
    "wget --version | head -1"
   ]
  },
  {
   "cell_type": "markdown",
   "metadata": {},
   "source": [
    "## jq\n",
    "Install via binary download"
   ]
  },
  {
   "cell_type": "code",
   "execution_count": 5,
   "metadata": {
    "collapsed": true
   },
   "outputs": [],
   "source": [
    "%%bash\n",
    "wget --quiet -O jq https://github.com/stedolan/jq/releases/download/jq-1.5/jq-linux64\n",
    "chmod +x ./jq\n",
    "sudo mv jq /usr/bin"
   ]
  },
  {
   "cell_type": "markdown",
   "metadata": {},
   "source": [
    "Verify:"
   ]
  },
  {
   "cell_type": "code",
   "execution_count": 6,
   "metadata": {},
   "outputs": [
    {
     "name": "stdout",
     "output_type": "stream",
     "text": [
      "/usr/bin/jq\n",
      "jq-1.5\n"
     ]
    }
   ],
   "source": [
    "%%bash\n",
    "command -v jq || { echo >&2 \"jq not found\";} \n",
    "jq --version"
   ]
  },
  {
   "cell_type": "markdown",
   "metadata": {},
   "source": [
    "## csvjson\n",
    "via csvkit\n",
    "\n",
    "Install via pip:"
   ]
  },
  {
   "cell_type": "code",
   "execution_count": 3,
   "metadata": {
    "collapsed": true
   },
   "outputs": [],
   "source": [
    "%%bash\n",
    "pip install --quiet csvkit"
   ]
  },
  {
   "cell_type": "markdown",
   "metadata": {},
   "source": [
    "Verify:"
   ]
  },
  {
   "cell_type": "code",
   "execution_count": 4,
   "metadata": {},
   "outputs": [
    {
     "name": "stdout",
     "output_type": "stream",
     "text": [
      "/opt/conda/envs/python2/bin/csvjson\n",
      "csvjson 1.0.2\n"
     ]
    }
   ],
   "source": [
    "%%bash\n",
    "command -v csvjson || { echo >&2 \"csvjson not found\";} \n",
    "bash -c \"csvjson --version 2>&1\""
   ]
  },
  {
   "cell_type": "markdown",
   "metadata": {},
   "source": [
    "## twarc\n",
    "Install via pip:"
   ]
  },
  {
   "cell_type": "code",
   "execution_count": 7,
   "metadata": {
    "collapsed": true
   },
   "outputs": [],
   "source": [
    "%%bash\n",
    "pip install --quiet twarc"
   ]
  },
  {
   "cell_type": "markdown",
   "metadata": {},
   "source": [
    "Verify:"
   ]
  },
  {
   "cell_type": "code",
   "execution_count": 8,
   "metadata": {},
   "outputs": [
    {
     "name": "stdout",
     "output_type": "stream",
     "text": [
      "/opt/conda/envs/python2/bin/twarc\n",
      "twarc v1.1.3\n"
     ]
    }
   ],
   "source": [
    "%%bash\n",
    "command -v twarc || { echo >&2 \"twarc not found\";} \n",
    "twarc version"
   ]
  },
  {
   "cell_type": "markdown",
   "metadata": {},
   "source": [
    "## Twitter API\n",
    "\n",
    "A Twitter API Application https://apps.twitter.com configured with:\n",
    "* Access Level: Read-only"
   ]
  },
  {
   "cell_type": "markdown",
   "metadata": {},
   "source": [
    "# Input"
   ]
  },
  {
   "cell_type": "markdown",
   "metadata": {},
   "source": [
    "## Datasets"
   ]
  },
  {
   "cell_type": "markdown",
   "metadata": {},
   "source": [
    "### TweetFavorited_SummaryWithDecodedUrls"
   ]
  },
  {
   "cell_type": "code",
   "execution_count": 1,
   "metadata": {
    "scrolled": true
   },
   "outputs": [
    {
     "name": "stdout",
     "output_type": "stream",
     "text": [
      "-rw-r--r-- 1 jovyan users 603K Jun 19 20:32 output/TweetFavorited_SummaryWithDecodedUrls.csv\n"
     ]
    }
   ],
   "source": [
    "%%bash\n",
    "ls -alph output/TweetFavorited_SummaryWithDecodedUrls.csv"
   ]
  },
  {
   "cell_type": "markdown",
   "metadata": {},
   "source": [
    "## Configuration"
   ]
  },
  {
   "cell_type": "markdown",
   "metadata": {},
   "source": [
    "### `twarc` configuration file\n",
    "`twarc` needs a configuration file containing Twitter API v1.1 OAuth credentials:\n",
    "```bash\n",
    "config/.twarc\n",
    "```\n",
    "\n",
    "which can be generated externally via interactive prompt:\n",
    "```bash\n",
    "twarc configure\n",
    "```"
   ]
  },
  {
   "cell_type": "markdown",
   "metadata": {},
   "source": [
    "# Execute"
   ]
  },
  {
   "cell_type": "markdown",
   "metadata": {},
   "source": [
    "## 1. Convert from CSV to JSON"
   ]
  },
  {
   "cell_type": "markdown",
   "metadata": {},
   "source": [
    "Convert input from CSV to JSON to avoid handling multi-line strings in the CSV."
   ]
  },
  {
   "cell_type": "code",
   "execution_count": 33,
   "metadata": {
    "collapsed": true
   },
   "outputs": [],
   "source": [
    "%%bash\n",
    "csvjson --no-inference --stream output/TweetFavorited_SummaryWithDecodedUrls.csv > output/TweetFavorited_SummaryWithDecodedUrls.json"
   ]
  },
  {
   "cell_type": "markdown",
   "metadata": {},
   "source": [
    "Verify:"
   ]
  },
  {
   "cell_type": "code",
   "execution_count": 35,
   "metadata": {},
   "outputs": [
    {
     "name": "stdout",
     "output_type": "stream",
     "text": [
      "{\"ID\": \"876449181816238080\", \"Posted at\": \"2017-06-18 14:39:03 +0000\", \"Screen name\": \"InfoQ\", \"Text\": \"Management 3.0 is about understanding you need to change the environment. Manage the system, not the people.… https://twitter.com/i/web/status/876449181816238080\"}\n",
      "{\"ID\": \"876446771525820416\", \"Posted at\": \"2017-06-18 14:29:28 +0000\", \"Screen name\": \"adymitruk\", \"Text\": \"Why I miss @hintjens so much. He was way ahead of most people around him. So many good things I learned about #0mq… https://twitter.com/i/web/status/876446771525820416\"}\n",
      "{\"ID\": \"876439360001814528\", \"Posted at\": \"2017-06-18 14:00:01 +0000\", \"Screen name\": \"NinjaEconomics\", \"Text\": \"How Much Are People Making from the Sharing Economy? https://priceonomics.com/how-much-are-people-making-from-the-sharing/ https://t.co/te1VuUZveD\"}\n",
      "{\"ID\": \"876376163257602048\", \"Posted at\": \"2017-06-18 09:48:54 +0000\", \"Screen name\": \"codepo8\", \"Text\": \"ID3 - a development environment in the browser for d3.js http://d3-id3.com/\"}\n",
      "{\"ID\": \"876370053154959360\", \"Posted at\": \"2017-06-18 09:24:37 +0000\", \"Screen name\": \"jboner\", \"Text\": \"Saw this talk live. Highly recommended. #mindblown https://twitter.com/qconlondon/status/876360590880645120\"}\n",
      "{\"ID\": \"876094836683579393\", \"Posted at\": \"2017-06-17 15:11:00 +0000\", \"Screen name\": \"portertech\", \"Text\": \"Blue Lake, The Cariboo, BC. https://t.co/nXrkOtMJqR\"}\n",
      "{\"ID\": \"875830301796188160\", \"Posted at\": \"2017-06-16 21:39:50 +0000\", \"Screen name\": \"brianleroux\", \"Text\": \"A+ read abt cloud functions https://www.infoq.com/articles/practical-serverless-computing\\n\\nour experiences echo a point @kennybastani made a bunch: the 🔑 is experimentation speed\"}\n",
      "{\"ID\": \"875827621971369985\", \"Posted at\": \"2017-06-16 21:29:11 +0000\", \"Screen name\": \"marcprecipice\", \"Text\": \"You cannot make a company value you. You can find a company that does value you, and work there.\"}\n",
      "{\"ID\": \"875809693913948165\", \"Posted at\": \"2017-06-16 20:17:57 +0000\", \"Screen name\": \"vambenepe\", \"Text\": \"Super-useful practical guide for using Cloud Dataflow: Guide to common Cloud Dataflow use-case patterns, Part 1\\nhttps://cloud.google.com/blog/big-data/2017/06/guide-to-common-cloud-dataflow-use-case-patterns-part-1\"}\n",
      "{\"ID\": \"875805024311537664\", \"Posted at\": \"2017-06-16 19:59:24 +0000\", \"Screen name\": \"monkchips\", \"Text\": \"@thomasj @mthenw @austencollins @openwhisk actually maybe doing slightly better than that, curve steepening… https://twitter.com/i/web/status/875805024311537664\"}\n"
     ]
    }
   ],
   "source": [
    "%%bash\n",
    "head output/TweetFavorited_SummaryWithDecodedUrls.json"
   ]
  },
  {
   "cell_type": "markdown",
   "metadata": {},
   "source": [
    "## 2. Get tweet IDs"
   ]
  },
  {
   "cell_type": "code",
   "execution_count": 39,
   "metadata": {
    "collapsed": true
   },
   "outputs": [],
   "source": [
    "%%bash\n",
    "jq --raw-output '.ID' output/TweetFavorited_SummaryWithDecodedUrls.json > output/TweetFavorited_TweetIds.csv"
   ]
  },
  {
   "cell_type": "markdown",
   "metadata": {},
   "source": [
    "Verify:"
   ]
  },
  {
   "cell_type": "code",
   "execution_count": 40,
   "metadata": {},
   "outputs": [
    {
     "name": "stdout",
     "output_type": "stream",
     "text": [
      "3200 output/TweetFavorited_TweetIds.csv\n"
     ]
    }
   ],
   "source": [
    "%%bash\n",
    "wc -l output/TweetFavorited_TweetIds.csv"
   ]
  },
  {
   "cell_type": "code",
   "execution_count": 41,
   "metadata": {},
   "outputs": [
    {
     "name": "stdout",
     "output_type": "stream",
     "text": [
      "876449181816238080\n",
      "876446771525820416\n",
      "876439360001814528\n",
      "876376163257602048\n",
      "876370053154959360\n",
      "876094836683579393\n",
      "875830301796188160\n",
      "875827621971369985\n",
      "875809693913948165\n",
      "875805024311537664\n"
     ]
    }
   ],
   "source": [
    "%%bash\n",
    "head output/TweetFavorited_TweetIds.csv"
   ]
  },
  {
   "cell_type": "markdown",
   "metadata": {},
   "source": [
    "## 3. Get raw tweet objects"
   ]
  },
  {
   "cell_type": "code",
   "execution_count": 46,
   "metadata": {
    "collapsed": true
   },
   "outputs": [],
   "source": [
    "%%bash\n",
    "twarc hydrate output/TweetFavorited_TweetIds.csv --config config/.twarc --log output/twarc.log > output/TweetFavorited_RawTweetObject.json"
   ]
  },
  {
   "cell_type": "markdown",
   "metadata": {},
   "source": [
    "Verify:"
   ]
  },
  {
   "cell_type": "code",
   "execution_count": 47,
   "metadata": {},
   "outputs": [
    {
     "name": "stdout",
     "output_type": "stream",
     "text": [
      "3200 output/TweetFavorited_RawTweetObject.json\n"
     ]
    }
   ],
   "source": [
    "%%bash\n",
    "wc -l output/TweetFavorited_RawTweetObject.json"
   ]
  },
  {
   "cell_type": "code",
   "execution_count": 57,
   "metadata": {},
   "outputs": [
    {
     "name": "stdout",
     "output_type": "stream",
     "text": [
      "{\"contributors\": null, \"truncated\": false, \"text\": \"Akka Cluster on K8 https://t.co/yHO6WBhoxW using Statefulset for seed nodes, and Deployment for worker nodes\\nkubectl / akka-cluster overlap?\", \"is_quote_status\": false, \"in_reply_to_status_id\": null, \"id\": 868131123972460544, \"favorite_count\": 1, \"source\": \"<a href=\\\"http://twitter.com\\\" rel=\\\"nofollow\\\">Twitter Web Client</a>\", \"retweeted\": false, \"coordinates\": null, \"entities\": {\"symbols\": [], \"user_mentions\": [], \"hashtags\": [], \"urls\": [{\"url\": \"https://t.co/yHO6WBhoxW\", \"indices\": [19, 42], \"expanded_url\": \"https://github.com/saturnism/akka-kubernetes-example\", \"display_url\": \"github.com/saturnism/akka\\u2026\"}]}, \"in_reply_to_screen_name\": null, \"in_reply_to_user_id\": null, \"retweet_count\": 1, \"id_str\": \"868131123972460544\", \"favorited\": true, \"user\": {\"follow_request_sent\": false, \"has_extended_profile\": false, \"profile_use_background_image\": true, \"default_profile_image\": false, \"id\": 18364654, \"profile_background_image_url_https\": \"https://pbs.twimg.com/profile_background_images/530621788296708096/0PC5jMnX.png\", \"verified\": false, \"translator_type\": \"none\", \"profile_text_color\": \"333333\", \"profile_image_url_https\": \"https://pbs.twimg.com/profile_images/734292279767269376/yV4eCazj_normal.jpg\", \"profile_sidebar_fill_color\": \"DDEEF6\", \"entities\": {\"url\": {\"urls\": [{\"url\": \"http://t.co/ciEpM3Iw8h\", \"indices\": [0, 22], \"expanded_url\": \"http://geekswithblogs.net/JoshReuben\", \"display_url\": \"geekswithblogs.net/JoshReuben\"}]}, \"description\": {\"urls\": []}}, \"followers_count\": 865, \"profile_sidebar_border_color\": \"000000\", \"id_str\": \"18364654\", \"profile_background_color\": \"FFFFFF\", \"listed_count\": 263, \"is_translation_enabled\": false, \"utc_offset\": 10800, \"statuses_count\": 27249, \"description\": \"TensorFlow && SPARQL / Cypher / GraphQL Fun --- MSc. Bioinformatics, Grad Dip Biotech, BSc Comp Sci\", \"friends_count\": 2581, \"location\": \"Israel\", \"profile_link_color\": \"94D487\", \"profile_image_url\": \"http://pbs.twimg.com/profile_images/734292279767269376/yV4eCazj_normal.jpg\", \"following\": false, \"geo_enabled\": false, \"profile_banner_url\": \"https://pbs.twimg.com/profile_banners/18364654/1415383104\", \"profile_background_image_url\": \"http://pbs.twimg.com/profile_background_images/530621788296708096/0PC5jMnX.png\", \"screen_name\": \"jreuben1\", \"lang\": \"en\", \"profile_background_tile\": true, \"favourites_count\": 53, \"name\": \"(((JReuben1)))\", \"notifications\": false, \"url\": \"http://t.co/ciEpM3Iw8h\", \"created_at\": \"Wed Dec 24 20:44:32 +0000 2008\", \"contributors_enabled\": false, \"time_zone\": \"Jerusalem\", \"protected\": false, \"default_profile\": false, \"is_translator\": false}, \"geo\": null, \"in_reply_to_user_id_str\": null, \"possibly_sensitive\": false, \"lang\": \"en\", \"created_at\": \"Fri May 26 15:46:03 +0000 2017\", \"in_reply_to_status_id_str\": null, \"place\": null}\n"
     ]
    }
   ],
   "source": [
    "%%bash\n",
    "head -1 output/TweetFavorited_RawTweetObject.json"
   ]
  },
  {
   "cell_type": "markdown",
   "metadata": {},
   "source": [
    "# Output"
   ]
  },
  {
   "cell_type": "markdown",
   "metadata": {},
   "source": [
    "`TweetFavorited_RawTweetObject.json` should exist:"
   ]
  },
  {
   "cell_type": "code",
   "execution_count": 49,
   "metadata": {},
   "outputs": [
    {
     "name": "stdout",
     "output_type": "stream",
     "text": [
      "-rw-r--r-- 1 jovyan users 9.9M Jun 21 12:36 output/TweetFavorited_RawTweetObject.json\n"
     ]
    }
   ],
   "source": [
    "%%bash\n",
    "ls -alph output/TweetFavorited_RawTweetObject.json"
   ]
  }
 ],
 "metadata": {
  "kernelspec": {
   "display_name": "Python 2",
   "language": "python",
   "name": "python2"
  },
  "language_info": {
   "codemirror_mode": {
    "name": "ipython",
    "version": 2
   },
   "file_extension": ".py",
   "mimetype": "text/x-python",
   "name": "python",
   "nbconvert_exporter": "python",
   "pygments_lexer": "ipython2",
   "version": "2.7.13"
  }
 },
 "nbformat": 4,
 "nbformat_minor": 1
}
